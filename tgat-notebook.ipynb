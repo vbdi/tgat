{
 "cells": [
  {
   "cell_type": "markdown",
   "id": "11548543-acb2-4747-bf93-16c3e6819977",
   "metadata": {},
   "source": [
    "# Exact Combinatorial Optimization with Temporo-Attentional Graph Neural Networks\n",
    "\n",
    "This notebook provides a PyTorch implementation for **TGAT**, as described in the paper ''Exact Combinatorial Optimization with Temporo-Attentional Graph Neural Networks''.\n",
    "\n",
    "Combinatorial optimization finds an optimal solution within a discrete set of variables and constraints. The field has seen a tremendous progress both in research and industry. With the success of deep learning in the past decade, a recent trend in combinatorial optimization has been to improve state-of-the-art combinatorial\n",
    "optimization solvers by replacing key heuristic components with machine learning (ML) models. In this paper, we investigate two essential aspects of machine learning algorithms for combinatorial optimization: temporal characteristics and attention. We argue that for the task of variable selection in the branch-and-bound (B\\&B) algorithm, incorporating the temporal information as well as the bipartite graph attention improves the solver's performance.\n",
    "\n",
    "<img src=\"https://vbdai-notebooks.obs.cn-north-4.myhuaweicloud.com/tgat/system_module.png\" style=\"zoom: 67%;\" />"
   ]
  },
  {
   "cell_type": "markdown",
   "id": "38c83a6e-15c5-4256-8893-268826264308",
   "metadata": {},
   "source": [
    "## Download and extract the code:"
   ]
  },
  {
   "cell_type": "code",
   "execution_count": null,
   "id": "4367b93a-f8f8-4c2b-8413-39e0df70a337",
   "metadata": {},
   "outputs": [],
   "source": [
    "!wget https://vbdai-notebooks.obs.cn-north-4.myhuaweicloud.com/tgat/code.zip \n",
    "!unzip -qo code.zip"
   ]
  },
  {
   "cell_type": "markdown",
   "id": "6178752c-299e-4a3b-ad28-00228c905691",
   "metadata": {},
   "source": [
    "## Running  training\n",
    "\n",
    "### Requirements\n",
    "\n",
    "- python 3.6\n",
    "- pytorch 1.10\n",
    "- torchvision\n",
    "- CUDA 10.2\n",
    "- Other requirements can be found in [ml4co competition](https://github.com/ds4dm/learn2branch-ecole) \n",
    "\n",
    "### Training\n",
    "\n",
    "multi GPU TGAT training:"
   ]
  },
  {
   "cell_type": "code",
   "execution_count": null,
   "id": "4b3bca76-5615-489f-ba0e-489a9c7278af",
   "metadata": {},
   "outputs": [],
   "source": [
    "!python -m torch.distributed.launch --nproc_per_node=[num_gpu_nodes] 03_train_tgat.py --distributed True --samples_path [data_path] --version [arbitray folder to save ckp] --problem [problem] --pytorch_gat_II --num_heads_per_layer [num_attn_heads] --GRU_temp_dim [gru_sequence_length] --emb_size [embedded_size]\n"
   ]
  },
  {
   "cell_type": "markdown",
   "id": "29eaae0c-b52a-424a-9ae8-a19134555593",
   "metadata": {},
   "source": [
    "multi GPU GAT training:"
   ]
  },
  {
   "cell_type": "code",
   "execution_count": null,
   "id": "e5e2e160-cc79-41e6-8182-ed8ce6889887",
   "metadata": {},
   "outputs": [],
   "source": [
    "!python -m torch.distributed.launch --nproc_per_node=[num_gpu_nodes] 03_train_gnn.py --distributed True --samples_path [data_path] --version [arbitray folder to save ckp] --problem [problem] --pytorch_gat_II --num_heads_per_layer [num_attn_heads] --emb_size [embedded_size]"
   ]
  },
  {
   "cell_type": "markdown",
   "id": "f1cb7780-90e8-482e-9000-7c4adedc58ed",
   "metadata": {},
   "source": [
    "multi GPU GCNN training:"
   ]
  },
  {
   "cell_type": "code",
   "execution_count": null,
   "id": "a6aef35f-dfc8-4d0c-a73f-7c16fc5a2fa9",
   "metadata": {},
   "outputs": [],
   "source": [
    "!python -m torch.distributed.launch --nproc_per_node=[num_gpu_nodes] 03_train_gnn.py --distributed True --samples_path [data_path] --version [arbitray folder to save ckp] --problem [problem] --emb_size [embedded_size]"
   ]
  },
  {
   "cell_type": "markdown",
   "id": "a276367e-9124-4135-9f00-efbb3615b31a",
   "metadata": {},
   "source": [
    "### Dual Integral Reward Evaluation \n",
    "\n",
    "To evaluate dual integral reward for TGAT run:"
   ]
  },
  {
   "cell_type": "code",
   "execution_count": null,
   "id": "778a6426-52e0-44bc-b637-7a982bed0eda",
   "metadata": {},
   "outputs": [],
   "source": [
    "!python 05_evaluate_reward_tgat.py --samples_path [data_path] --version [arbitray folder to save ckp] --problem [problem] --pytorch_gat_II --num_heads_per_layer [num_attn_heads] --emb_size [embedded_size] --seed[seed]"
   ]
  },
  {
   "cell_type": "markdown",
   "id": "dcb17468-19b7-45b4-93d7-4bd10e8e316f",
   "metadata": {},
   "source": [
    "To evaluate dual integral reward for GAT run:"
   ]
  },
  {
   "cell_type": "code",
   "execution_count": null,
   "id": "43be1a7a-bd40-4668-a641-87e1b7758574",
   "metadata": {},
   "outputs": [],
   "source": [
    "!python 05_evaluate_reward.py --samples_path [data_path] --version [arbitray folder to save ckp] --problem [problem] --pytorch_gat_II --num_heads_per_layer [num_attn_heads] --emb_size [embedded_size] --seed[seed]"
   ]
  }
 ],
 "metadata": {
  "AIGalleryInfo": {
   "item_id": "047c6cf2-8463-40d7-b92f-7b2ca998e935"
  },
  "flavorInfo": {
   "architecture": "X86_64",
   "category": "CPU"
  },
  "imageInfo": {
   "id": "e1a07296-22a8-4f05-8bc8-e936c8e54099",
   "name": "pytorch1.4-cuda10.1-cudnn7-ubuntu18.04"
  },
  "kernelspec": {
   "display_name": "python-3.7.10",
   "language": "python",
   "name": "python-3.7.10"
  },
  "language_info": {
   "codemirror_mode": {
    "name": "ipython",
    "version": 3
   },
   "file_extension": ".py",
   "mimetype": "text/x-python",
   "name": "python",
   "nbconvert_exporter": "python",
   "pygments_lexer": "ipython3",
   "version": "3.7.10"
  }
 },
 "nbformat": 4,
 "nbformat_minor": 5
}
